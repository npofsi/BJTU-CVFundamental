{
 "cells": [
  {
   "cell_type": "code",
   "execution_count": 6,
   "id": "86023aef",
   "metadata": {},
   "outputs": [],
   "source": [
    "import torch\n",
    "import torchvision\n",
    "import torchvision.transforms as transforms\n",
    "from torchvision.io import read_image\n",
    "\n",
    "import matplotlib.pyplot as plt\n",
    "import numpy as np\n",
    "from tqdm import tqdm\n",
    "import time"
   ]
  },
  {
   "cell_type": "code",
   "execution_count": 7,
   "id": "1787ae23",
   "metadata": {},
   "outputs": [
    {
     "name": "stdout",
     "output_type": "stream",
     "text": [
      "Using device:  cuda:0\n"
     ]
    }
   ],
   "source": [
    "device=torch.device(\"cuda:0\" if torch.cuda.is_available() else \"cpu\")\n",
    "cpu=torch.device(\"cpu\")\n",
    "print(\"Using device: \", device)"
   ]
  },
  {
   "cell_type": "code",
   "execution_count": 8,
   "id": "43798bba",
   "metadata": {},
   "outputs": [],
   "source": [
    "transform = transforms.Compose(\n",
    "    [\n",
    "    transforms.ToTensor(),\n",
    "    transforms.Normalize((0.5,0.5,0.5),(0.5,0.5,0.5))\n",
    "    ])\n",
    "\n",
    "batch_size = 100\n",
    "\n",
    "# trainset = torchvision.datasets.CIFAR10(root='./data', train=True,\n",
    "#                                         download=True, transform=transform)\n",
    "# trainloader = torch.utils.data.DataLoader(trainset, batch_size=batch_size,\n",
    "#                                           shuffle=True, num_workers=2)\n",
    "\n",
    "# testset = torchvision.datasets.CIFAR10(root='./data', train=False,\n",
    "#                                        download=True, transform=transform)\n",
    "# testloader = torch.utils.data.DataLoader(testset, batch_size=batch_size,\n",
    "#                                          shuffle=False, num_workers=2)\n",
    "\n",
    "# classes = ('plane', 'car', 'bird', 'cat',\n",
    "#            'deer', 'dog', 'frog', 'horse', 'ship', 'truck')"
   ]
  },
  {
   "cell_type": "code",
   "execution_count": 9,
   "id": "419f69c0",
   "metadata": {},
   "outputs": [
    {
     "name": "stdout",
     "output_type": "stream",
     "text": [
      "24\n"
     ]
    }
   ],
   "source": [
    "import os\n",
    "from PIL import Image\n",
    "school_labels = [\"zxb\",\"nm\",\"sy\",\"tsg\",\"mhb\",\"sjz\",\"tyht\"]\n",
    "other_labels = [\"all_souls\",\"ashmolean\",\"balliol\",\"bodleian\",\"christ_church\",\"cornmarket\",\"hertford\",\"jesus\",\"keble\",\"magdalen\",\"new\",\"oriel\",\"oxford\",\"pitt_rivers\",\"radcliffe_camera\",\"trinity\",\"worcester\"]\n",
    "all_labels = school_labels + other_labels\n",
    "print(len(all_labels))\n",
    "\n",
    "label_dict = {}\n",
    "for i, tag in enumerate(all_labels):\n",
    "    label_dict[tag] = i\n",
    "\n",
    "\n",
    "class BJTUDataset(torch.utils.data.Dataset):\n",
    "    def __init__(self, root, train=True, transform=None):\n",
    "        self.root = root\n",
    "        self.transform = transform\n",
    "        self.train = train\n",
    "        self.image_files = os.listdir(root)\n",
    "        self.image_paths = [os.path.join(root, imgf) for imgf in self.image_files]\n",
    "        # self.images = [Image.open(image_path) for image_path in self.image_paths]\n",
    "        self.images = []\n",
    "        cot=0\n",
    "        # for image_path in self.image_paths:\n",
    "            \n",
    "\n",
    "        #     try:\n",
    "        #         cot+=1\n",
    "        #         self.images.append(Image.open(image_path))\n",
    "        #         print(\"{} images loaded\".format(cot))\n",
    "        #     except Exception as err:\n",
    "        #         print(err)\n",
    "        #         print(\"Invalid image: {}\".format(image_path))\n",
    "        #         self.image_paths.remove(image_path)\n",
    "\n",
    "        self.labels = [label_dict[img.split('-')[0]] for img in self.image_files]\n",
    "        self.N = len(self.image_files)\n",
    "        #print first 10 labels\n",
    "        print(self.labels[:10])\n",
    "        #print first 10 image paths\n",
    "        print(self.image_paths[:10])\n",
    "        \n",
    "\n",
    "\n",
    "\n",
    "\n",
    "    def __len__(self):\n",
    "        print(\"Total images: {}\".format(self.N))\n",
    "        return self.N\n",
    "\n",
    "    def __getitem__(self, idx):\n",
    "        label = self.labels[idx]\n",
    "        image = read_image(self.image_paths[idx])\n",
    "        print(\"Reading image: {}\".format(self.image_paths[idx]))\n",
    "        # image = self.images[idx]\n",
    "        self.transform = False\n",
    "        if self.transform:\n",
    "            image = self.transform(image)\n",
    "        return image, label\n"
   ]
  },
  {
   "cell_type": "code",
   "execution_count": 10,
   "id": "583071e4",
   "metadata": {},
   "outputs": [
    {
     "name": "stdout",
     "output_type": "stream",
     "text": [
      "[7, 7, 7, 7, 7, 7, 7, 7, 7, 7]\n",
      "['C:\\\\Left\\\\Workspace\\\\BJTU-CVFundamental\\\\data\\\\bjtu-dataset-mixed\\\\Cleaned_Dataset_32p\\\\train\\\\all_souls-0135678249.jpg', 'C:\\\\Left\\\\Workspace\\\\BJTU-CVFundamental\\\\data\\\\bjtu-dataset-mixed\\\\Cleaned_Dataset_32p\\\\train\\\\all_souls-0172463589.jpg', 'C:\\\\Left\\\\Workspace\\\\BJTU-CVFundamental\\\\data\\\\bjtu-dataset-mixed\\\\Cleaned_Dataset_32p\\\\train\\\\all_souls-0185649723.jpg', 'C:\\\\Left\\\\Workspace\\\\BJTU-CVFundamental\\\\data\\\\bjtu-dataset-mixed\\\\Cleaned_Dataset_32p\\\\train\\\\all_souls-0238156479.jpg', 'C:\\\\Left\\\\Workspace\\\\BJTU-CVFundamental\\\\data\\\\bjtu-dataset-mixed\\\\Cleaned_Dataset_32p\\\\train\\\\all_souls-0273958641.jpg', 'C:\\\\Left\\\\Workspace\\\\BJTU-CVFundamental\\\\data\\\\bjtu-dataset-mixed\\\\Cleaned_Dataset_32p\\\\train\\\\all_souls-0278913465.jpg', 'C:\\\\Left\\\\Workspace\\\\BJTU-CVFundamental\\\\data\\\\bjtu-dataset-mixed\\\\Cleaned_Dataset_32p\\\\train\\\\all_souls-0346295718.jpg', 'C:\\\\Left\\\\Workspace\\\\BJTU-CVFundamental\\\\data\\\\bjtu-dataset-mixed\\\\Cleaned_Dataset_32p\\\\train\\\\all_souls-0469183572.jpg', 'C:\\\\Left\\\\Workspace\\\\BJTU-CVFundamental\\\\data\\\\bjtu-dataset-mixed\\\\Cleaned_Dataset_32p\\\\train\\\\all_souls-0475638912.jpg', 'C:\\\\Left\\\\Workspace\\\\BJTU-CVFundamental\\\\data\\\\bjtu-dataset-mixed\\\\Cleaned_Dataset_32p\\\\train\\\\all_souls-0769215348.jpg']\n",
      "Total images: 7296\n",
      "Total images: 7296\n",
      "[4, 4, 4, 4, 4, 4, 4, 4, 4, 4]\n",
      "['C:\\\\Left\\\\Workspace\\\\BJTU-CVFundamental\\\\data\\\\bjtu-dataset-mixed\\\\Cleaned_Dataset_32p\\\\test\\\\mhb-0127435869.jpg', 'C:\\\\Left\\\\Workspace\\\\BJTU-CVFundamental\\\\data\\\\bjtu-dataset-mixed\\\\Cleaned_Dataset_32p\\\\test\\\\mhb-0542861973.jpg', 'C:\\\\Left\\\\Workspace\\\\BJTU-CVFundamental\\\\data\\\\bjtu-dataset-mixed\\\\Cleaned_Dataset_32p\\\\test\\\\mhb-0756483912.jpg', 'C:\\\\Left\\\\Workspace\\\\BJTU-CVFundamental\\\\data\\\\bjtu-dataset-mixed\\\\Cleaned_Dataset_32p\\\\test\\\\mhb-1247680953.jpg', 'C:\\\\Left\\\\Workspace\\\\BJTU-CVFundamental\\\\data\\\\bjtu-dataset-mixed\\\\Cleaned_Dataset_32p\\\\test\\\\mhb-1572380946.jpg', 'C:\\\\Left\\\\Workspace\\\\BJTU-CVFundamental\\\\data\\\\bjtu-dataset-mixed\\\\Cleaned_Dataset_32p\\\\test\\\\mhb-1905426738.jpg', 'C:\\\\Left\\\\Workspace\\\\BJTU-CVFundamental\\\\data\\\\bjtu-dataset-mixed\\\\Cleaned_Dataset_32p\\\\test\\\\mhb-2097186435.jpg', 'C:\\\\Left\\\\Workspace\\\\BJTU-CVFundamental\\\\data\\\\bjtu-dataset-mixed\\\\Cleaned_Dataset_32p\\\\test\\\\mhb-2184603795.jpg', 'C:\\\\Left\\\\Workspace\\\\BJTU-CVFundamental\\\\data\\\\bjtu-dataset-mixed\\\\Cleaned_Dataset_32p\\\\test\\\\mhb-2431876905.jpg', 'C:\\\\Left\\\\Workspace\\\\BJTU-CVFundamental\\\\data\\\\bjtu-dataset-mixed\\\\Cleaned_Dataset_32p\\\\test\\\\mhb-3057489612.jpg']\n"
     ]
    }
   ],
   "source": [
    "work_path = \"C:\\\\Left\\\\Workspace\\\\BJTU-CVFundamental\\\\\"\n",
    "data_root = os.path.join(work_path, \"data\\\\bjtu-dataset-mixed\\\\Cleaned_Dataset_32p\\\\\")\n",
    "\n",
    "trainset = BJTUDataset(root=data_root+'train', train=True, transform=transform)\n",
    "trainloader = torch.utils.data.DataLoader(trainset, batch_size=batch_size,\n",
    "                                          shuffle=True, num_workers=16)\n",
    "\n",
    "testset = BJTUDataset(root=data_root+'test', train=False, transform=transform)\n",
    "testloader = torch.utils.data.DataLoader(testset, batch_size=batch_size,\n",
    "                                          shuffle=False, num_workers=16)\n",
    "\n",
    "# for _ in range(3):\n",
    "#    t1 = time.time()\n",
    "#    for idx, val in enumerate(testloader):\n",
    "#        pass\n",
    "#    t2 = time.time()\n",
    "#    print(str(t2-t1) +' sec')"
   ]
  },
  {
   "cell_type": "code",
   "execution_count": null,
   "id": "30dd2c25",
   "metadata": {},
   "outputs": [],
   "source": [
    "\n",
    "\n",
    "# print((trainset[0][0].numpy().shape))\n",
    "\n",
    "# plt.imshow(trainset[0][0].permute(1, 2, 0).numpy())\n",
    "\n",
    "# functions to show an image\n",
    "def imshow(img):\n",
    "    img = img / 2 + 0.5     # unnormalize\n",
    "    npimg = img.numpy()\n",
    "    plt.imshow(np.transpose(npimg, (1, 2, 0)))\n",
    "\n",
    "# get some random training images\n",
    "# dataiter = iter(trainloader)\n",
    "# images, labels = next(dataiter)\n",
    "\n",
    "# # show images\n",
    "# imshow(torchvision.utils.make_grid(images))\n",
    "# # print labels\n",
    "# print(' '.join(f'{all_labels[labels[j]]:5s}' for j in range(batch_size)))"
   ]
  },
  {
   "cell_type": "code",
   "execution_count": null,
   "id": "d4b3a7fc",
   "metadata": {},
   "outputs": [],
   "source": []
  },
  {
   "cell_type": "code",
   "execution_count": null,
   "id": "afebe2a3",
   "metadata": {},
   "outputs": [],
   "source": [
    "import torch.nn as nn\n",
    "import torch.nn.functional as F\n",
    "\n",
    "\n",
    "class Net(nn.Module):\n",
    "    def __init__(self):\n",
    "        super().__init__()\n",
    "        self.conv1 = nn.Conv2d(3, 6, 5)\n",
    "        self.pool = nn.MaxPool2d(2, 2)\n",
    "        self.conv2 = nn.Conv2d(6, 16, 5)\n",
    "        self.fc1 = nn.Linear(16 * 5 * 5, 120)\n",
    "        self.fc2 = nn.Linear(120, 84)\n",
    "        self.fc3 = nn.Linear(84, 17)\n",
    "\n",
    "    def forward(self, x):\n",
    "        x = self.pool(F.relu(self.conv1(x)))\n",
    "        x = self.pool(F.relu(self.conv2(x)))\n",
    "        x = torch.flatten(x, 1) # flatten all dimensions except batch\n",
    "        x = F.relu(self.fc1(x))\n",
    "        x = F.relu(self.fc2(x))\n",
    "        x = self.fc3(x)\n",
    "        return x\n",
    "\n",
    "\n",
    "net = Net()\n",
    "net = net.to(device)"
   ]
  },
  {
   "cell_type": "code",
   "execution_count": null,
   "id": "8e82d3bd",
   "metadata": {},
   "outputs": [],
   "source": [
    "import torch.optim as optim\n",
    "\n",
    "criterion = nn.CrossEntropyLoss()\n",
    "optimizer = optim.SGD(net.parameters(), lr=0.001, momentum=0.9)"
   ]
  },
  {
   "cell_type": "code",
   "execution_count": null,
   "id": "8de803c5",
   "metadata": {},
   "outputs": [],
   "source": [
    "\n",
    "\n",
    "print(\"Start training\")\n",
    "for epoch in range(2):  # loop over the dataset multiple times\n",
    "\n",
    "    print(f\"Epoch {epoch+1}\")\n",
    "    running_loss = 0.0\n",
    "    \n",
    "    for i, data in tqdm(enumerate(trainloader,0)):\n",
    "        # get the inputs; data is a list of [inputs, labels]\n",
    "        print(i)\n",
    "        inputs, labels = data\n",
    "        \n",
    "        # zero the parameter gradients\n",
    "        optimizer.zero_grad()\n",
    "\n",
    "        inputs = inputs.to(device)\n",
    "        labels = labels.to(device)\n",
    "\n",
    "        # forward + backward + optimize\n",
    "        outputs = net(inputs)\n",
    "        loss = criterion(outputs, labels)\n",
    "        loss.backward()\n",
    "        optimizer.step()\n",
    "        # print statistics\n",
    "        running_loss += loss.item()\n",
    "        if i % 20 == 0:    # print every 2000 mini-batches\n",
    "            print(f'[{epoch + 1}, {i + 1:5d}] loss: {running_loss / 2000:.3f}')\n",
    "            running_loss = 0.0\n",
    "\n",
    "print('Finished Training')"
   ]
  },
  {
   "cell_type": "code",
   "execution_count": null,
   "id": "c147376a",
   "metadata": {},
   "outputs": [],
   "source": []
  }
 ],
 "metadata": {
  "kernelspec": {
   "display_name": "Python 3 (ipykernel)",
   "language": "python",
   "name": "python3"
  },
  "language_info": {
   "codemirror_mode": {
    "name": "ipython",
    "version": 3
   },
   "file_extension": ".py",
   "mimetype": "text/x-python",
   "name": "python",
   "nbconvert_exporter": "python",
   "pygments_lexer": "ipython3",
   "version": "3.10.9"
  }
 },
 "nbformat": 4,
 "nbformat_minor": 5
}
